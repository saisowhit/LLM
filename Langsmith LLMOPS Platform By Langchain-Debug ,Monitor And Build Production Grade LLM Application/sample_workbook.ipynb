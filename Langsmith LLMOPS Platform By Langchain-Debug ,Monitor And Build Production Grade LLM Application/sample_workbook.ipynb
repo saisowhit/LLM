{
 "cells": [
  {
   "cell_type": "code",
   "execution_count": null,
   "id": "a36ba2a5",
   "metadata": {},
   "outputs": [],
   "source": [
    "from langchain_openai import ChatOpenAI\n",
    "from langchain_core.prompts import ChatPromptTemplate\n",
    "from langchain_core.output_parsers import StrOutputParser\n",
    "import os\n",
    "from dotenv import load_dotenv\n",
    "os.environ[\"OPENAI_API_KEY\"]=os.getenv(\"OPENAI_API_KEY\")\n",
    "os.environ[\"OPENAI_API_KEY\"]=\"true\"\n",
    "os.environ[\"OPENAI_API_KEY\"]=os.getenv(\"LANGCHAIN_API_KEY\")\n"
   ]
  },
  {
   "cell_type": "code",
   "execution_count": null,
   "id": "a150baea",
   "metadata": {},
   "outputs": [],
   "source": [
    "prompt=ChatPromptTemplate.from_message([(\"system\",\"You are a helful assistant. Please respond to the user request \"),(\"user\",\"Question:{question}\\n Context:{context}\")])"
   ]
  },
  {
   "cell_type": "code",
   "execution_count": null,
   "id": "e571a1a8",
   "metadata": {},
   "outputs": [],
   "source": [
    "model=ChatOpenAI(model=\"gpt-3.5-turbo\")\n",
    "output_parser=StrOutputParser() ## used to display the output of the model\n",
    "chain=prompt|model|output_parser\n",
    "question=\"Can you summarize the speech\"\n",
    "context=\"\"\"\n",
    "It was at my hometown public library and  half a dozen people came out. I just kind of stood there and rambled. There were a lot of awkward silences. One guy clapped. \n",
    "Since then I’ve given over 500 keynote speeches. I am still getting better. I have a long way to go. One thing I’ve always done is collect speech transcripts and bits of poetry. I study them—inhale them—to see greatness in action. How do they build connection? How do they structure their messages? What’s the science? What’s the art? \n",
    "This is a page of my favorite speech transcripts: \n",
    "“What I regret most in my life are failures of kindness” by George Saunders\n",
    "Mississippi Testimony by Brandon Boulware\n",
    "“What, to the slave, is the fourth of July?” by Frederick Douglass\n",
    "Post-Game Speech on Jacob Blake and Culture of Fear by Coach Doc Rivers\n",
    "\"\"\"\n",
    "\n",
    "print(chain.invoke[\"question\":question,\"context\":context])\n",
    "\n"
   ]
  }
 ],
 "metadata": {
  "language_info": {
   "name": "python"
  }
 },
 "nbformat": 4,
 "nbformat_minor": 5
}
