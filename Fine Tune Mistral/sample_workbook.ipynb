{
 "cells": [
  {
   "cell_type": "code",
   "execution_count": null,
   "id": "97ef3cf6",
   "metadata": {},
   "outputs": [],
   "source": [
    "!pip3 install mistralai pandas pyarrow rich gradio"
   ]
  },
  {
   "cell_type": "code",
   "execution_count": null,
   "id": "92da3a31",
   "metadata": {},
   "outputs": [],
   "source": [
    "## Different cases\n",
    "    ##1. Specific tone\n",
    "    ##2.specific format\n",
    "    ##3.specific style\n",
    "    ##4.coding\n",
    "    ##5.domain-specifi augmentation\n",
    "    ##6.Knowledge transfer\n",
    "    ##7.agents for function calling"
   ]
  },
  {
   "cell_type": "code",
   "execution_count": null,
   "id": "80f3f853",
   "metadata": {},
   "outputs": [],
   "source": [
    "## steps\n",
    "    ##1.Download and format data\n",
    "    ## 2. Upload the dataset\n",
    "    ##3.create finetuning job\n",
    "    ##4.check status of the job\n",
    "    ##5. Use the finetune model"
   ]
  },
  {
   "cell_type": "code",
   "execution_count": null,
   "id": "6d9837fc",
   "metadata": {},
   "outputs": [],
   "source": [
    "## ultrachat 10k"
   ]
  },
  {
   "cell_type": "code",
   "execution_count": null,
   "id": "2536504f",
   "metadata": {},
   "outputs": [],
   "source": [
    "## step1"
   ]
  },
  {
   "cell_type": "code",
   "execution_count": null,
   "id": "46562f16",
   "metadata": {},
   "outputs": [],
   "source": [
    "import pandas as pd\n",
    "from rich import print\n",
    "df_train=pd.read_parquet()\n",
    "df_train=df_train.sample(frac=0.955,random_state=200)\n",
    "df_eval=df_train.drop(df_train.index)\n",
    "df_train.to_json(\"ultrachat_chunk_train.json\",orient=\"records\",lines=True)\n",
    "df_eval.to_json(\"ultrachat_chunk_eval.json\",orient=\"records\",lines=True)\n",
    "print(df_train.iloc[100]['messages'])"
   ]
  },
  {
   "cell_type": "code",
   "execution_count": null,
   "id": "48b418e4",
   "metadata": {},
   "outputs": [],
   "source": [
    "## upload the data to mistrai server"
   ]
  },
  {
   "cell_type": "code",
   "execution_count": null,
   "id": "a5cc6eb0",
   "metadata": {},
   "outputs": [],
   "source": []
  }
 ],
 "metadata": {
  "language_info": {
   "name": "python"
  }
 },
 "nbformat": 4,
 "nbformat_minor": 5
}
